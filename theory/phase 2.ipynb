{
 "cells": [
  {
   "cell_type": "markdown",
   "metadata": {},
   "source": [
    "# Phase 2: Researching and Planning"
   ]
  },
  {
   "cell_type": "markdown",
   "metadata": {},
   "source": [
    "## Research Your Chosen Issue: Dive deep into your chosen data scenario. What's the problem or topic you're exploring? Document your findings in Jupyter notebook.\n",
    "I am exploring the problem of predicting the weather with a neural network. I have found through research that this is a very hard problem [that has a lot of different aspects to it](https://media.bom.gov.au/social/blog/1696/explainer-how-meteorologists-forecast-the-weather/), and I probably have no chance at getting good results. *But*, I can try. So here's that.\n",
    "\n",
    "Predicting the weather is a very hard task. It is done by many things; satellite measurements, radar, weather stations gathering information, and human experience. The weather is a chaotic system, and it is very hard to predict. But, if I can get enough data, it'll come at least a little close to correct :)\n",
    "\n",
    "[According to sources](https://ncas.ac.uk/learn/what-causes-weather/), weather is caused by temperature, atmospheric pressure, cloud formation, wind, humidity and rain. So including all these in the dataset would be enough to get a good prediction I think.\n",
    "### Existing code on how to do this\n",
    " - https://medium.com/@sebastienwebdev/forecasting-weather-patterns-with-lstm-a-python-guide-without-dates-433f0356136c\n",
    "    - Could not find the dataset they mentioned to train it on to reproduce the results\n",
    " - https://www.kaggle.com/code/syedali110/weather-prediction-using-rnn\n",
    "    - DOES ACTUALLY WORK, I TESTED IT\n",
    "    - Uses a dataset from seattle\n",
    "    - Uses an RNN"
   ]
  },
  {
   "cell_type": "markdown",
   "metadata": {},
   "source": [
    "## Find Relevant Data: Search for datasets related to your issue. Ensure they align with cybersecurity and privacy principles.\n",
    "OPEN SOURCE FREE WEATHER DATASETS:\n",
    " - I could try scraping http://www.bom.gov.au/climate/change/hqsites/\n",
    " - [I FOUND ALL THE TEMPERATURE DATA I'LL EVER NEED](http://www.bom.gov.au/climate/data/acorn-sat/#tabs=Data-and-networks)\n",
    " - Lots of other data (Daily/Monthly rainfall, monthly pan evaporation & cloud data) found [here](http://www.bom.gov.au/climate/change/datasets/datasets.shtml) (Well, the links to the ftp server is there; and the ftp server still runs; so...)"
   ]
  },
  {
   "cell_type": "markdown",
   "metadata": {},
   "source": [
    "## Planning: Create a data dictionary to show the type of data and parameters required for your dataset, then use this information to create a data-flow diagram.\n",
    "```mermaid\n",
    "---\n",
    "title: Node\n",
    "---\n",
    "flowchart LR\n",
    "    id\n",
    "```"
   ]
  }
 ],
 "metadata": {
  "kernelspec": {
   "display_name": "Python 3",
   "language": "python",
   "name": "python3"
  },
  "language_info": {
   "name": "python",
   "version": "3.10.12"
  }
 },
 "nbformat": 4,
 "nbformat_minor": 2
}
