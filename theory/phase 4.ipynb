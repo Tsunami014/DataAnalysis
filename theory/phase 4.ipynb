{
 "cells": [
  {
   "cell_type": "markdown",
   "metadata": {},
   "source": [
    "# Testing and evaluating"
   ]
  },
  {
   "cell_type": "markdown",
   "metadata": {},
   "source": [
    "## Analyse and conclude\n",
    "As you can see from the below image, the neural network did a not very interessting line.\n",
    "\n",
    "![image.png](imgs/image.png)\n",
    "\n",
    "BUT there is a reason for that - if it were to predict a jagged line that were the opposite way (instead of `/\\` it did `\\/`) then it would be *double* as wrong as it would have been if it just predicted an average-like line.\n",
    "\n",
    "There is probably an easy way to make it predict more of a jagged line, but that's a problem for another day."
   ]
  }
 ],
 "metadata": {
  "language_info": {
   "name": "python"
  }
 },
 "nbformat": 4,
 "nbformat_minor": 2
}
