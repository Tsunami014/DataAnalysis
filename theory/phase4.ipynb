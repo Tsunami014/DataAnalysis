{
 "cells": [
  {
   "cell_type": "markdown",
   "metadata": {},
   "source": [
    "# Testing and evaluating"
   ]
  },
  {
   "cell_type": "markdown",
   "metadata": {},
   "source": [
    "## Analyse and conclude\n",
    "As you can see from the below image, the neural network did a not very interessting line.\n",
    "\n",
    "![image.png](imgs/image.png)\n",
    "\n",
    "BUT there is a reason for that - if it were to predict a jagged line that were the opposite way (instead of `/\\` it did `\\/`) then it would be *double* as wrong as it would have been if it just predicted an average-like line.\n",
    "\n",
    "The predicted weather is usually ~3℃ off, but usually ranges from 1-5℃. This isn't that far off! But still could be improved.\n",
    "\n",
    "In the end, I found this data can be used to predict what the weather will be and can help plan your day. This is exactly as I hoped for! Though it isn't as accurate as I wanted it to be. Originally I had in mind I would predict all the jaggedness I was talking about, but in the end it just did a basic line. "
   ]
  },
  {
   "cell_type": "markdown",
   "metadata": {},
   "source": [
    "## Peer Evaluation\n",
    "### Riley\n",
    "> \n",
    "### Viggo\n",
    "> \n",
    "//TODO"
   ]
  },
  {
   "cell_type": "markdown",
   "metadata": {},
   "source": [
    "## Evaluation of Final Product in Relation to Functional and Non-Functional Requirements\n",
    "I think I mostly did well in terms of non-functional requirements, with some things unavoidably having to change and others unable to be done. With asthetics, I think the app was designed nicely and prettily, which masterfully improved on the design of the overall app and made it look even cooler and more mind boggling for others to look at. With reliability, the project stays ok - I have coded in error handling. But I haven't extensively tested it though...\n",
    "\n",
    "With usability and accuracy, the app becomes a little worse. Accuracy is ok - but getting 6℃ off sometimes doesn't leave me that satisfied. But it works, so that is going on my todo list for another day. With usability; running the app is fine and the installation is ok for everything ***<u>EXCEPT TENSORFLOW</u>***. Tensorflow loves being special, giving many warnings and being a pain to install and get the code working at the same time. It constantly complains and I don't like it. Once it took me half an hour to get it working.\n",
    "\n",
    "And lastly, the speed isn't the best. It takes ages to download the data and another long time to unzip and clean everything and *lots* more time to train the AI. But I made it better; with caching so you don't have to redownload the datasets again (which is very useful if you're offline) with an extensively tested system to make it easy to redownload or delete the existing cache or whatever else. I also added savestates so it saves the unzipped and cleaned data for a much faster time - but that takes ~20 seconds to load. Still better than the couple of minutes it would take to regularly clean the data. And I haven't implemented anything for the AI yet.\n",
    "\n",
    "---\n",
    "\n",
    "And now moving onto functional requirements - with that regard, I think I did exceptionally well, with some improvements to be made of course. Starting off with data loading; it correctly loads and processes the data from the ftp site as well as it's progress in doing so and returns any errors that may have occured along the way. With data cleaning it does really well in too; it does it sucessfully. Who could ask for more? \n",
    "\n",
    "It can not only get back a map of every location and whether or not it has any data for it, but also can request a plot of specific data. For visualisation it exceeds too - using Bokeh instead of Matplotlib for interactivity and use in Flask without either saving it to a file or doing weird converting with base64.\n",
    "\n",
    "With data storage, it can and will store downloaded files unless you ask not to and you can also save the cleaned data to make running the program again *much* faster. With regards to the API; I think I did well, but could be better. I currently only have endpoints for doing only what *my* app needs to do - and so adding more endpoints for doing other things like getting the data as well as getting a plot of the data would be better, as it means more things can be done with the API than just what I made it for; thus the point of wanting to make an API in the first place."
   ]
  },
  {
   "cell_type": "markdown",
   "metadata": {},
   "source": [
    "## Evaluation of your Project in Relation to Testing and Project Management\n",
    "With testing and project management I think I did pretty well, but could improve. With time management, I did well - finishing before a lot of people were done; but I still could've done it all a lot earlier if I chose an easier task. But anyways, I made it in time, so all is good. It could've turned bad, but I'm glad it didn't. With problem solving and testing - I spent **hours** trying to get various things to work. Because I've done heaps of coding before most things worked on either the first, maybe second or third try. For any outliers to this (of which there were quite a few; no one is the best) there was much Googling to be done.\n",
    "\n",
    "Some examples of challenges I faced were getting the FTP site to work as I've never used ftp sites before. It was OK, and with some sample code I got it working. Then it just took me a while to figure out what I needed to grab *from* the ftp site. That was annoying; there were so many files and folders! And once I got them I needed to unzip the .zip to get the .txt files inside, then unzip the .tar file to get the .Z files inside it and then unzip *those* with yet another library. Was a lot of work and different libraries trying to find what things I needed. It was also annoying trying to parse the files. They were not .csv files but rather were text files where all the data was separated by an arbitrary amount of spaces for each column of data and some columns had spaces in the data. I got over this by specially parsing the text using many regular expressions. Not only this, but when I was making the AI I didn't know how to make it. So, to overcome this, I googled sample code to predict a sine wave and got that to work, then fitted it with the weather data. I struggled finding layers that would make the model predict something that wasn't the straight line, but then realised that being straight is ok and used the original layers. Overall, there were many challenges but I overcame them.\n",
    "\n",
    "But overall, I spent hours upon hours upon hours working on this. I spent pretty much all my train rides to and from school and even more time at home working on this project and I'm really glad it turned out well! There's still more to come, but this is enough. I've squeezed out as much as I could've. Couldn't be happier with the product!"
   ]
  }
 ],
 "metadata": {
  "language_info": {
   "name": "python"
  }
 },
 "nbformat": 4,
 "nbformat_minor": 2
}
