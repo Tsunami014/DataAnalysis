{
 "cells": [
  {
   "cell_type": "markdown",
   "metadata": {},
   "source": [
    "# Phase 3: Producing and Implementing\n",
    "- Python, Pandas and Matplotlib: Use Python Pandas to read and manipulate data. Create relevant charts\n",
    "and visualisations using Matplotlib.\n",
    "- User Interface: How does the user find and generate the data? In a separate Python program, create an\n",
    "intuitive text-based or graphical user interface (GUI). For full marks, you need a GUI."
   ]
  },
  {
   "cell_type": "markdown",
   "metadata": {},
   "source": [
    "## Get Your Data: Acquire any data you need, whether it be from .txt files, .csv files or APIs. For full marks, you need to be using APIs.\n",
    "I hope FTP counts as an API\n",
    "### Getting the files"
   ]
  },
  {
   "cell_type": "code",
   "execution_count": 6,
   "metadata": {},
   "outputs": [],
   "source": [
    "# File locations\n",
    "files = {\n",
    "    'temps.zip': '/anon/home/ncc/www/change/ACORN_SAT_daily/v2.4-raw-data-and-supporting-information.zip',\n",
    "    'rain.tar': '/anon/home/ncc/www/change/HQdailyR/HQ_daily_prcp_txt.tar',\n",
    "    'stations.txt': '/anon/gen/clim_data/IDCKWCDEA0/tables/stations_db.txt'\n",
    "}\n",
    "# TO LOOK AT LATER:\n",
    "# - ftp://134.178.253.145/anon/gen/radar_transparencies/\n",
    "welcome = \"\""
   ]
  },
  {
   "cell_type": "code",
   "execution_count": 8,
   "metadata": {},
   "outputs": [
    {
     "data": {
      "application/vnd.jupyter.widget-view+json": {
       "model_id": "55356bb061044fb8a2bbaa43a1b6967f",
       "version_major": 2,
       "version_minor": 0
      },
      "text/plain": [
       "VBox(children=(HTML(value=\"<h1>Caching options</h1>Please note that it <i>will</i> use cached files if they ex…"
      ]
     },
     "metadata": {},
     "output_type": "display_data"
    }
   ],
   "source": [
    "# A little options menu thingo :)\n",
    "import ipywidgets as widgets\n",
    "from IPython.display import display\n",
    "import os, shutil\n",
    "\n",
    "cacheWs = [\n",
    "    widgets.Checkbox(\n",
    "        value=False,\n",
    "        description='Force refresh cache',\n",
    "        indent=True\n",
    "    ),\n",
    "    widgets.HTML(\n",
    "        value=\"\",\n",
    "    ),\n",
    "    widgets.Button(\n",
    "        description=\"Refresh status\"\n",
    "    )\n",
    "]\n",
    "\n",
    "removeBtn = widgets.Button(\n",
    "    description=\"Delete cache\"\n",
    ")\n",
    "\n",
    "ws = [\n",
    "    widgets.HTML(\n",
    "        value=\"<h1>Caching options</h1>Please note that it <i>will</i> use cached files if they exist in the cache directory unless you specify force refresh.<br>The cache option just caches the files when downloaded, so it's faster but takes up more space.\",\n",
    "    ),\n",
    "    widgets.Checkbox(\n",
    "        value=True,\n",
    "        description='Cache?',\n",
    "        indent=False\n",
    "    ),\n",
    "    widgets.VBox([\n",
    "        widgets.HBox(cacheWs),\n",
    "        widgets.HBox([widgets.HTML(value=\"&nbsp &nbsp &nbsp &nbsp &nbsp &nbsp &nbsp &nbsp &nbsp &nbsp &nbsp &nbsp &nbsp &nbsp &nbsp\"),removeBtn])])\n",
    "]\n",
    "\n",
    "def isCached():\n",
    "    return {i: os.path.exists('./cache/'+i) for i in files.keys()}\n",
    "\n",
    "def RefreshStatus(change):\n",
    "    cacheWs[1].value = \"Cache status: <b>Checking...</b>\"\n",
    "    cacheds = isCached()\n",
    "    numCached = len([i for i in cacheds if cacheds[i]])\n",
    "    if numCached == 1:\n",
    "        cacheWs[1].value = f\"Cache status: <b>THERE IS 1 FILE CACHED OUT OF {len(cacheds)}</b>\"\n",
    "    else:\n",
    "        cacheWs[1].value = f\"Cache status: <b>THERE ARE {numCached} FILES CACHED OUT OF {len(cacheds)}</b>\"\n",
    "\n",
    "\n",
    "def removeCache(change):\n",
    "    shutil.rmtree('./cache')\n",
    "    os.mkdir('./cache')\n",
    "\n",
    "ws[1].observe(RefreshStatus, names='value')\n",
    "cacheWs[2].on_click(RefreshStatus)\n",
    "removeBtn.on_click(removeCache)\n",
    "\n",
    "RefreshStatus(None)\n",
    "\n",
    "display(widgets.VBox(ws))\n"
   ]
  },
  {
   "cell_type": "code",
   "execution_count": 7,
   "metadata": {},
   "outputs": [
    {
     "name": "stdout",
     "output_type": "stream",
     "text": [
      "Caching status: Fully cached all 3 files. Will download 0 files and will cache them once downloaded.\n",
      "\n",
      "Cache has all the files! Using them.\n",
      "All files collected! Extracting...\n",
      "Extracting cached zip file 'temps.zip'...\n",
      "Extracting cached tar file 'rain.tar'...\n",
      "Opening text file 'stations.txt'...\n",
      "All files extracted!!! :)\n"
     ]
    }
   ],
   "source": [
    "# Imports\n",
    "import ftplib, io\n",
    "import zipfile, tarfile\n",
    "\n",
    "# Checking the cache\n",
    "allcached = isCached()\n",
    "cache = ws[1].value\n",
    "force = cacheWs[0].value\n",
    "cacheds = ([] if force else [i for i in allcached if allcached[i]])\n",
    "fullyCached = len(cacheds) == len(allcached)\n",
    "print(\"Caching status: \"+('Force redownloading all cached' if force else (\n",
    "    f'Fully cached all {len(allcached)} file{\"s\" if len(allcached) != 1 else \"\"}' if fullyCached else (\n",
    "        f'{len(cacheds)} file{\"s\" if len(cacheds) != 1 else \"\"} cached out of {len(allcached)}' if len(cacheds) > 0 else 'Not cached'\n",
    ")))+f\". Will download {str(len(allcached)-len(cacheds))} file{'s' if len(allcached)-len(cacheds) != 1 else ''} and will {'not ' if not cache else ''}cache them once downloaded.\\n\")\n",
    "\n",
    "def getFiles():\n",
    "    global welcome\n",
    "    if fullyCached:\n",
    "        print(\"Cache has all the files! Using them.\")\n",
    "        return {i: i for i in cacheds}\n",
    "    fs = {}\n",
    "    print(\"Connecting to ftp server...\")\n",
    "    server = ftplib.FTP()\n",
    "    server.connect(\"134.178.253.145\") # Also known as ftp.bom.gov.au\n",
    "    print(\"Logging in...\")\n",
    "    server.login()\n",
    "    welcome = server.welcome\n",
    "    for i in files:\n",
    "        if i in cacheds:\n",
    "            print(f\"Using cached file '{i}'...\")\n",
    "            fs[i] = i\n",
    "            continue\n",
    "        print(f\"Downloading file '{i}' at ftp://ftp.bom.gov.au{files[i]} (may take a while)...\")\n",
    "        newf = io.BytesIO()\n",
    "        server.retrbinary('RETR '+files[i], newf.write)\n",
    "        fs[i] = newf\n",
    "        if cache:\n",
    "            print(f\"Caching file '{i}'...\")\n",
    "            with open(f'./cache/{i}', 'wb') as f:\n",
    "                f.write(newf.getvalue())\n",
    "    print(\"Quitting server connection...\")\n",
    "    server.quit()\n",
    "    return fs\n",
    "\n",
    "def extractFiles(fs):\n",
    "    extracted = []\n",
    "    for i in fs:\n",
    "        if i.endswith('.txt'):\n",
    "            print(f\"Opening text file '{i}'...\")\n",
    "            if isinstance(fs[i], str):\n",
    "                extracted.append(open(f'./cache/{fs[i]}').read())\n",
    "            else:\n",
    "                extracted.append(fs[i].getvalue().decode())\n",
    "            continue\n",
    "        typ = 'tar' if i.endswith('.tar') else 'zip'\n",
    "        if isinstance(fs[i], str):\n",
    "            print(f\"Extracting cached {typ} file '{i}'...\")\n",
    "            fs[i] = f'./cache/{fs[i]}'\n",
    "        else:\n",
    "            print(f\"Extracting downloaded {typ} file '{i}'...\")\n",
    "        if i.endswith('.tar'):\n",
    "            if isinstance(fs[i], str):\n",
    "                extracted.append(tarfile.open(fs[i]))\n",
    "            else:\n",
    "                extracted.append(tarfile.open(fileobj=fs[i]))\n",
    "        else:\n",
    "            extracted.append(zipfile.ZipFile(fs[i]))\n",
    "    return extracted\n",
    "\n",
    "fs = getFiles()\n",
    "print(\"All files collected! Extracting...\")\n",
    "xtracteds = extractFiles(fs)\n",
    "\n",
    "print(\"All files extracted!!! :)\")"
   ]
  },
  {
   "cell_type": "code",
   "execution_count": 11,
   "metadata": {},
   "outputs": [
    {
     "name": "stdout",
     "output_type": "stream",
     "text": [
      "\n"
     ]
    }
   ],
   "source": [
    "print(welcome)\n",
    "# This only works half the time :("
   ]
  },
  {
   "cell_type": "markdown",
   "metadata": {},
   "source": [
    "### Get location names, latitudes and longitudes"
   ]
  },
  {
   "cell_type": "code",
   "execution_count": 9,
   "metadata": {},
   "outputs": [
    {
     "data": {
      "text/html": [
       "<div>\n",
       "<style scoped>\n",
       "    .dataframe tbody tr th:only-of-type {\n",
       "        vertical-align: middle;\n",
       "    }\n",
       "\n",
       "    .dataframe tbody tr th {\n",
       "        vertical-align: top;\n",
       "    }\n",
       "\n",
       "    .dataframe thead th {\n",
       "        text-align: right;\n",
       "    }\n",
       "</style>\n",
       "<table border=\"1\" class=\"dataframe\">\n",
       "  <thead>\n",
       "    <tr style=\"text-align: right;\">\n",
       "      <th></th>\n",
       "      <th>Location</th>\n",
       "      <th>State</th>\n",
       "      <th>Name</th>\n",
       "      <th>Lat</th>\n",
       "      <th>Long</th>\n",
       "    </tr>\n",
       "  </thead>\n",
       "  <tbody>\n",
       "    <tr>\n",
       "      <th>0</th>\n",
       "      <td>15590</td>\n",
       "      <td>NT</td>\n",
       "      <td>ALICE SPRINGS AIRPORT</td>\n",
       "      <td>-23.7951</td>\n",
       "      <td>133.8890</td>\n",
       "    </tr>\n",
       "    <tr>\n",
       "      <th>1</th>\n",
       "      <td>14272</td>\n",
       "      <td>NT</td>\n",
       "      <td>BATCHELOR AIRPORT</td>\n",
       "      <td>-13.0544</td>\n",
       "      <td>131.0252</td>\n",
       "    </tr>\n",
       "    <tr>\n",
       "      <th>2</th>\n",
       "      <td>14723</td>\n",
       "      <td>NT</td>\n",
       "      <td>BORROLOOLA AIRPORT</td>\n",
       "      <td>-16.0755</td>\n",
       "      <td>136.3041</td>\n",
       "    </tr>\n",
       "    <tr>\n",
       "      <th>3</th>\n",
       "      <td>14954</td>\n",
       "      <td>NT</td>\n",
       "      <td>BRADSHAW</td>\n",
       "      <td>-14.9408</td>\n",
       "      <td>130.8091</td>\n",
       "    </tr>\n",
       "    <tr>\n",
       "      <th>4</th>\n",
       "      <td>14808</td>\n",
       "      <td>NT</td>\n",
       "      <td>BRADSHAW - ANGALLARI VALLEY (DEFENCE)</td>\n",
       "      <td>-15.4397</td>\n",
       "      <td>130.5731</td>\n",
       "    </tr>\n",
       "    <tr>\n",
       "      <th>...</th>\n",
       "      <td>...</td>\n",
       "      <td>...</td>\n",
       "      <td>...</td>\n",
       "      <td>...</td>\n",
       "      <td>...</td>\n",
       "    </tr>\n",
       "    <tr>\n",
       "      <th>503</th>\n",
       "      <td>13011</td>\n",
       "      <td>WA</td>\n",
       "      <td>WARBURTON AIRFIELD</td>\n",
       "      <td>-26.1317</td>\n",
       "      <td>126.5839</td>\n",
       "    </tr>\n",
       "    <tr>\n",
       "      <th>504</th>\n",
       "      <td>13044</td>\n",
       "      <td>WA</td>\n",
       "      <td>WILUNA AERO</td>\n",
       "      <td>-26.6273</td>\n",
       "      <td>120.2195</td>\n",
       "    </tr>\n",
       "    <tr>\n",
       "      <th>505</th>\n",
       "      <td>109521</td>\n",
       "      <td>WA</td>\n",
       "      <td>WITCHCLIFFE WEST</td>\n",
       "      <td>-34.0258</td>\n",
       "      <td>115.0637</td>\n",
       "    </tr>\n",
       "    <tr>\n",
       "      <th>506</th>\n",
       "      <td>1006</td>\n",
       "      <td>WA</td>\n",
       "      <td>WYNDHAM AERO</td>\n",
       "      <td>-15.5100</td>\n",
       "      <td>128.1503</td>\n",
       "    </tr>\n",
       "    <tr>\n",
       "      <th>507</th>\n",
       "      <td>3108</td>\n",
       "      <td>WA</td>\n",
       "      <td>YAMPI SOUND (DEFENCE)</td>\n",
       "      <td>-16.7671</td>\n",
       "      <td>123.9810</td>\n",
       "    </tr>\n",
       "  </tbody>\n",
       "</table>\n",
       "<p>508 rows × 5 columns</p>\n",
       "</div>"
      ],
      "text/plain": [
       "     Location State                                   Name      Lat      Long\n",
       "0       15590    NT                  ALICE SPRINGS AIRPORT -23.7951  133.8890\n",
       "1       14272    NT                      BATCHELOR AIRPORT -13.0544  131.0252\n",
       "2       14723    NT                     BORROLOOLA AIRPORT -16.0755  136.3041\n",
       "3       14954    NT                               BRADSHAW -14.9408  130.8091\n",
       "4       14808    NT  BRADSHAW - ANGALLARI VALLEY (DEFENCE) -15.4397  130.5731\n",
       "..        ...   ...                                    ...      ...       ...\n",
       "503     13011    WA                     WARBURTON AIRFIELD -26.1317  126.5839\n",
       "504     13044    WA                            WILUNA AERO -26.6273  120.2195\n",
       "505    109521    WA                       WITCHCLIFFE WEST -34.0258  115.0637\n",
       "506      1006    WA                           WYNDHAM AERO -15.5100  128.1503\n",
       "507      3108    WA                  YAMPI SOUND (DEFENCE) -16.7671  123.9810\n",
       "\n",
       "[508 rows x 5 columns]"
      ]
     },
     "execution_count": 9,
     "metadata": {},
     "output_type": "execute_result"
    }
   ],
   "source": [
    "import pandas as pd\n",
    "z = xtracteds[2]\n",
    "spl = [(int(i[:8]), i[8:12].strip(), i[12:18].strip(), i[18:59].strip(), i[59:75].strip(), float(i[75:84]), float(i[84:])) for i in z.split('\\n') if i != '']\n",
    "names = [\"Location\", \"State\", \"???\", \"Name\", \"????\", \"Lat\", \"Long\"]\n",
    "locs = pd.DataFrame({names[j]: {str(i): spl[i][j] for i in range(len(spl))} for j in range(len(names))})#'Location,State,???,Name,????,Lat,Long\\n'+z)\n",
    "# Until I find what it is, I'll remove the unknown columns\n",
    "locs = locs.drop(columns=['???', '????'])\n",
    "\"\"\"\n",
    "import re\n",
    "from io import StringIO\n",
    "z = xtracteds[1]\n",
    "locs = pd.read_csv(StringIO(\"Location,Lat,Long,Elevation,Name\\n\"+re.sub('^(.*?) (.*?) (.*?) (.*?) (.*)', r'\\1,\\2,\\3,\\4,\\5', z.extractfile('HQDR_stations.txt').read().decode(), flags=re.M)))\n",
    "\"\"\"\n",
    "locs"
   ]
  },
  {
   "cell_type": "code",
   "execution_count": 12,
   "metadata": {},
   "outputs": [
    {
     "data": {
      "text/plain": [
       "{'Name': 'CABRAMURRA SMHEA AWS',\n",
       " 'State': 'NSW',\n",
       " 'Lat': -35.9371,\n",
       " 'Long': 148.3779}"
      ]
     },
     "execution_count": 12,
     "metadata": {},
     "output_type": "execute_result"
    }
   ],
   "source": [
    "def getInfo(id):\n",
    "    part = locs[locs['Location'] == id]\n",
    "    if len(part) == 0:\n",
    "        return {\n",
    "        'Name': 'Unknown', \n",
    "        'State': 'Unknown', \n",
    "        'Lat': 'Unknown', \n",
    "        'Long': 'Unknown'\n",
    "    }\n",
    "    return {\n",
    "        'Name': part.Name.values[0], \n",
    "        'State': part.State.values[0], \n",
    "        'Lat': part.Lat.values[0], \n",
    "        'Long': part.Long.values[0]\n",
    "    }\n",
    "getInfo(72161)"
   ]
  },
  {
   "cell_type": "markdown",
   "metadata": {},
   "source": [
    "### Get temperature data"
   ]
  },
  {
   "cell_type": "code",
   "execution_count": 10,
   "metadata": {},
   "outputs": [
    {
     "name": "stdout",
     "output_type": "stream",
     "text": [
      "This set of files contains the following:\n",
      "\n",
      "- homogenised ACORN-SAT data\n",
      "- raw station data for stations corresponding to the ACORN-SAT locations\n",
      "- a file (primarysites.txt) with information on which site is the primary site for each ACORN-SAT occasion and for which period of time\n",
      "(in most cases, there will be two or three primary sites which make up the input data for the overall ACORN-SAT record)\n",
      "- a summary of adjustments and reference periods and stations. This information is also contained in the station catalogue.\n",
      "- each of the transfer functions for these adjustments.\n",
      "\n",
      "Format of raw data files\n",
      "\n",
      "These file names have the file name hqnewNNNNNN, where NNNNNN is the station number.\n",
      "\n",
      "Each day of data has the format:\n",
      "\n",
      "NNNNNN YYYYMMDD  XXX  NNN\n",
      "\n",
      "where NNNNNN is the station number, YYYYMMDD is the date, XXX is the maximum temperature in tenths of degrees C\n",
      "(e.g. 251 = 25.1 C) and NNN is the minimum temperature. Missing data is shown as -999.\n",
      "\n",
      "These data files have been quality controlled but not adjusted.\n",
      "\n",
      "Format of primarysites.txt\n",
      "\n",
      "This file takes the form\n",
      "\n",
      "NNNNNN  N1N1N1 YYYYMMDD YYYYMMDD N2N2N2 YYYYMMDD YYYYMMDD N3N3N3 YYYYMMDD YYYYMMDD\n",
      "\n",
      "NNNNNN denotes the current station number (used in the adjusted ACORN-SAT data). N1N1N1, N2N2N2 and N3N3N3 are the site numbers\n",
      "which make up the ACORN-SAT record, and the listed date range is the period when they were the primary site.\n",
      "\n",
      "Where there are only 1 or 2 stations used for the ACORN-SAT record, the remaining columns are filled with 999999/99999999.\n",
      "\n",
      "Format of transfer function files\n",
      "\n",
      "The transfer function files have the name transfuncNNNNNNYYYYc, where:\n",
      "\n",
      "NNNNNN is the station number (usually corresponding to the primary site at the time)\n",
      "YYYY is the year of the adjustment\n",
      "c is the code for the variable being adjusted (x for maximum, n for minimum). If it is blank the adjustment is applied to\n",
      "both maximum and minimum. 'sp' denotes a spike correction.\n",
      "\n",
      "The file format is as follows:\n",
      "\n",
      "Column 1 - original value (in 0.1 degrees)\n",
      "Columns 2-13 - adjusted maximum temperature values for January-December\n",
      "Columns 14-25 - adjusted minimum temperature values for January-December\n",
      "\n",
      "Note that although both maximum and minimum adjusted values are shown, in most cases only one of the two sets will be implemented \n",
      "(shown by the suffix on the file name)\n",
      "\n",
      "6 April 2020\n"
     ]
    }
   ],
   "source": [
    "z = xtracteds[0]\n",
    "dirs = [i for i in z.namelist() if i.startswith('raw-data/') if i != 'raw-data/Raw data.7z' and i != 'raw-data/']\n",
    "datas = [z.open(i).read().decode() for i in dirs]\n",
    "print(z.open(\"readme.txt\").read().decode())\n",
    "# This is the format for the data!"
   ]
  },
  {
   "cell_type": "code",
   "execution_count": 13,
   "metadata": {},
   "outputs": [
    {
     "name": "stdout",
     "output_type": "stream",
     "text": [
      "Cleaning data (may take a short while)...\n",
      "Done!\n"
     ]
    }
   ],
   "source": [
    "import pandas as pd\n",
    "from io import StringIO\n",
    "import re\n",
    "def clean_data(dat):\n",
    "    cleaned = re.sub(' +', ',', # Replace the spaces that *were* the deliminers to commas. Theer were not the same number of spaces each time either.\n",
    "                     re.sub('\\r\\n......', '\\n', dat) # Remove the station number and \\r. The station number is the same every time, and returned along with the dataframe.\n",
    "    ).replace(',\\n', '\\n' # Because the spaces are a pain and all over the place!\n",
    "                         )[6:] # The first station number does not get cleaned, so remove it here. \n",
    "    df = pd.read_csv(StringIO('Date,MaxTemp,MinTemp\\n'+cleaned))\n",
    "    df = df.drop(df[(df.MaxTemp == -999) | (df.MinTemp == -999)].index) # Remove all missing data coz it's useless\n",
    "    df['Date'] = pd.to_datetime(df['Date'], format='%Y%m%d') # Turn the dates into **real** dates!\n",
    "    df['MaxTemp'] = df['MaxTemp']/10 # Adjust the temperature because of how it was stored\n",
    "    df['MinTemp'] = df['MinTemp']/10 # Adjust the temperature because of how it was stored\n",
    "    return df\n",
    "\n",
    "print('Cleaning data (may take a short while)...')\n",
    "alls = {i[:6]: clean_data(i) for i in datas}\n",
    "print('Done!')"
   ]
  },
  {
   "cell_type": "code",
   "execution_count": 16,
   "metadata": {},
   "outputs": [
    {
     "data": {
      "image/png": "[encoded data removed]",
      "text/plain": [
       "<Figure size 640x480 with 1 Axes>"
      ]
     },
     "metadata": {},
     "output_type": "display_data"
    }
   ],
   "source": [
    "import matplotlib.pyplot as plt\n",
    "from random import randint\n",
    "place = list(alls.keys())[randint(0, len(alls)-1)]\n",
    "# place = '27042'\n",
    "df = alls[place]\n",
    "plt.plot(df['Date'], df['MaxTemp'], label='Max Temp', color=\"red\", alpha=0.7)\n",
    "plt.plot(df['Date'], df['MinTemp'], label='Min Temp', color=\"blue\", alpha=0.7)\n",
    "plt.legend()\n",
    "#plt.fill_between(df['Date'], df['MaxTemp'], df['MinTemp'], alpha=0.3)\n",
    "plt.xlabel('Date')\n",
    "plt.ylabel('Temperature (°C)')\n",
    "plt.title(f'Temperature in {getInfo(int(place))[\"Name\"]} ({place}) over time.')\n",
    "plt.show()\n",
    "# PLEASE NOTE: If there is a gap, it is because there is no data for that time. This is not an error.\n"
   ]
  },
  {
   "cell_type": "markdown",
   "metadata": {},
   "source": [
    "### Get rainfall data"
   ]
  },
  {
   "cell_type": "code",
   "execution_count": 17,
   "metadata": {},
   "outputs": [
    {
     "name": "stdout",
     "output_type": "stream",
     "text": [
      "\n",
      "Unzipping files (Will be a while)... 151 / 151\n",
      "Done!\n"
     ]
    }
   ],
   "source": [
    "from unlzw3 import unlzw\n",
    "z = xtracteds[1]\n",
    "dirs = z.getnames()\n",
    "dirs.remove('HQDR_stations.txt')\n",
    "print()\n",
    "datas = {}\n",
    "j = 0\n",
    "for i in dirs:\n",
    "    j += 1\n",
    "    print(f\"\\rUnzipping files (Will be a while)... {j} / {len(dirs)}\", end=\"\")\n",
    "    datas[i] = unlzw(z.extractfile(i).read()).decode()\n",
    "print(\"\\nDone!\")"
   ]
  },
  {
   "cell_type": "code",
   "execution_count": 18,
   "metadata": {},
   "outputs": [
    {
     "name": "stdout",
     "output_type": "stream",
     "text": [
      "Cleaning data (may take a short while)...\n",
      "Done!\n"
     ]
    }
   ],
   "source": [
    "import pandas as pd\n",
    "from io import StringIO\n",
    "import re\n",
    "def clean_data(dat):\n",
    "    # Info is stored as: \"????         StationNumber DateFrom DateTo missing_value=MISSINGVALUE Name\\r\\n\"\n",
    "    info = dat[:dat.index(\"\\r\")-1][4:].strip().split(' ')\n",
    "    cleaned = re.sub(' +', ',', # Replace the spaces that *were* the deliminers to commas.\n",
    "                     dat[dat.index(\"\\n\")+1:].replace('\\r\\n', '\\n') # Make the newlines consistent\n",
    "    )\n",
    "    df = pd.read_csv(StringIO('Date,Rainfall\\n'+cleaned))\n",
    "    df = df.drop(df[df.Rainfall == float(info[3][14:])].index) # Remove all missing data coz it's useless\n",
    "    df['Date'] = pd.to_datetime(df['Date'], format='%Y%m%d') # Turn the dates into **real** dates!\n",
    "    return df, {\"Station\": int(info[0]), \"Name\": \" \".join(info[4:])}\n",
    "\n",
    "print(\"Cleaning data (may take a short while)...\")\n",
    "cleanDatas = {}\n",
    "stationMap = {}\n",
    "for i in datas:\n",
    "    df, info = clean_data(datas[i])\n",
    "    cleanDatas[info['Station']] = df\n",
    "    stationMap[info['Station']] = info['Name']\n",
    "print(\"Done!\")"
   ]
  },
  {
   "cell_type": "code",
   "execution_count": 19,
   "metadata": {},
   "outputs": [
    {
     "data": {
      "image/png": "[encoded data removed]",
      "text/plain": [
       "<Figure size 640x480 with 1 Axes>"
      ]
     },
     "metadata": {},
     "output_type": "display_data"
    }
   ],
   "source": [
    "import matplotlib.pyplot as plt\n",
    "from random import randint\n",
    "place = list(cleanDatas.keys())[randint(0, len(cleanDatas)-1)]\n",
    "# place = '27042'\n",
    "df = cleanDatas[place]\n",
    "plt.plot(df['Date'], df['Rainfall'], color=\"blue\", alpha=0.9)\n",
    "plt.xlabel('Date')\n",
    "plt.ylabel('Rainfall (mm)') # At least, I'm *assuming* it's in mm\n",
    "plt.title(f'Rainfall in {stationMap[place]} ({place}) over time.')\n",
    "plt.show()\n",
    "# PLEASE NOTE: If there is a gap, it is because there is no data for that time. This is not an error."
   ]
  }
 ],
 "metadata": {
  "kernelspec": {
   "display_name": "Python 3 (ipykernel)",
   "language": "python",
   "name": "python3"
  },
  "language_info": {
   "codemirror_mode": {
    "name": "ipython",
    "version": 3
   },
   "file_extension": ".py",
   "mimetype": "text/x-python",
   "name": "python",
   "nbconvert_exporter": "python",
   "pygments_lexer": "ipython3",
   "version": "3.10.12"
  }
 },
 "nbformat": 4,
 "nbformat_minor": 4
}
